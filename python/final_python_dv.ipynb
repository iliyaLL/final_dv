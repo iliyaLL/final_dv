{
  "cells": [
    {
      "cell_type": "code",
      "execution_count": 26,
      "id": "d15ce546",
      "metadata": {
        "id": "d15ce546"
      },
      "outputs": [],
      "source": [
        "import pandas as pd\n",
        "import numpy as np\n",
        "import matplotlib.pyplot as plt\n",
        "import seaborn as sns"
      ]
    },
    {
      "cell_type": "code",
      "execution_count": 27,
      "id": "6638ea08",
      "metadata": {
        "colab": {
          "base_uri": "https://localhost:8080/"
        },
        "id": "6638ea08",
        "outputId": "7d503237-1b6a-4506-81a3-7211a442cb2d"
      },
      "outputs": [
        {
          "output_type": "stream",
          "name": "stdout",
          "text": [
            "         Дата  Склад Контрагент Номенклатура  Количество\n",
            "0  2018-01-04      1  address_0    product_0           4\n",
            "1  2018-01-04      1  address_0    product_1           4\n",
            "2  2018-01-04      1  address_0    product_2           5\n",
            "3  2018-01-04      1  address_0    product_3          10\n",
            "4  2018-01-04      1  address_0    product_4           2\n"
          ]
        }
      ],
      "source": [
        "# Прочитайте данные (переменную назовите 'df')\n",
        "df = pd.read_csv('data.csv')\n",
        "\n",
        "# Вывести несколько первых строк таблицы данных\n",
        "print(df.head())"
      ]
    },
    {
      "cell_type": "markdown",
      "id": "a8e1b306",
      "metadata": {
        "id": "a8e1b306"
      },
      "source": [
        "Проверяем формат столбцов"
      ]
    },
    {
      "cell_type": "code",
      "execution_count": 28,
      "id": "0db7a439",
      "metadata": {
        "id": "0db7a439",
        "colab": {
          "base_uri": "https://localhost:8080/"
        },
        "outputId": "37b5c9ab-9328-4e00-86d3-115365b5d6c5"
      },
      "outputs": [
        {
          "output_type": "stream",
          "name": "stdout",
          "text": [
            "Дата            object\n",
            "Склад            int64\n",
            "Контрагент      object\n",
            "Номенклатура    object\n",
            "Количество       int64\n",
            "dtype: object\n"
          ]
        }
      ],
      "source": [
        "print(df.dtypes)\n"
      ]
    },
    {
      "cell_type": "markdown",
      "id": "ab427988",
      "metadata": {
        "id": "ab427988"
      },
      "source": [
        "Сразу переведем столбец \"Дата\" в правильный формат"
      ]
    },
    {
      "cell_type": "code",
      "execution_count": 29,
      "id": "317e1a0b",
      "metadata": {
        "id": "317e1a0b",
        "colab": {
          "base_uri": "https://localhost:8080/"
        },
        "outputId": "0d8acf14-2f05-4fda-bb60-1d9816cbe53b"
      },
      "outputs": [
        {
          "output_type": "stream",
          "name": "stdout",
          "text": [
            "Дата            datetime64[ns]\n",
            "Склад                    int64\n",
            "Контрагент              object\n",
            "Номенклатура            object\n",
            "Количество               int64\n",
            "dtype: object\n"
          ]
        }
      ],
      "source": [
        "df['Дата'] = pd.to_datetime(df['Дата'], errors='coerce')\n",
        "print(df.dtypes)\n"
      ]
    },
    {
      "cell_type": "markdown",
      "id": "c117ede9",
      "metadata": {
        "id": "c117ede9"
      },
      "source": [
        "Сгруппируйте данные по дате, посчитайте количество продаж"
      ]
    },
    {
      "cell_type": "code",
      "execution_count": 30,
      "id": "66085e84",
      "metadata": {
        "id": "66085e84"
      },
      "outputs": [],
      "source": [
        "grouped_df = df.groupby('Дата').size().reset_index(name='Количество')\n"
      ]
    },
    {
      "cell_type": "markdown",
      "id": "fbfd90ac",
      "metadata": {
        "id": "fbfd90ac"
      },
      "source": [
        "Вывести несколько первых строк сгруппированных данных"
      ]
    },
    {
      "cell_type": "code",
      "execution_count": 31,
      "id": "79e12654",
      "metadata": {
        "id": "79e12654",
        "colab": {
          "base_uri": "https://localhost:8080/"
        },
        "outputId": "0eb0bc9b-291a-40fb-b3be-1fbd0d8b06f7"
      },
      "outputs": [
        {
          "output_type": "stream",
          "name": "stdout",
          "text": [
            "        Дата  Количество\n",
            "0 2018-01-04        1840\n",
            "1 2018-01-05        1301\n",
            "2 2018-01-06        1306\n",
            "3 2018-01-07        1322\n",
            "4 2018-01-09        1719\n",
            "5 2018-01-10        1487\n",
            "6 2018-01-11        1471\n",
            "7 2018-01-12        1492\n",
            "8 2018-01-13        1475\n",
            "9 2018-01-14        1477\n"
          ]
        }
      ],
      "source": [
        "print(grouped_df.head(10))"
      ]
    },
    {
      "cell_type": "markdown",
      "id": "9ce32d36",
      "metadata": {
        "id": "9ce32d36"
      },
      "source": [
        "Нарисуйте график продаж у `grouped_df`"
      ]
    },
    {
      "cell_type": "code",
      "execution_count": 32,
      "id": "9a46b2f5",
      "metadata": {
        "id": "9a46b2f5",
        "colab": {
          "base_uri": "https://localhost:8080/",
          "height": 617
        },
        "outputId": "7d41844d-9d3d-4edc-c65c-b8ff5aeb090f"
      },
      "outputs": [
        {
          "output_type": "display_data",
          "data": {
            "text/plain": [
              "<Figure size 1000x600 with 1 Axes>"
            ],
            "image/png": "[encoded data removed]"
          },
          "metadata": {}
        }
      ],
      "source": [
        "grouped_df_top10 = grouped_df.head(10)\n",
        "\n",
        "plt.figure(figsize=(10, 6))\n",
        "plt.plot(grouped_df_top10['Дата'], grouped_df_top10['Количество'], marker='o', color='b', linestyle='-')\n",
        "plt.xlabel('Дата')\n",
        "plt.ylabel('Количество продаж')\n",
        "plt.title('Количество продаж по первым 10 датам')\n",
        "plt.xticks(rotation=45)\n",
        "plt.grid(True)\n",
        "plt.show()\n",
        "\n"
      ]
    },
    {
      "cell_type": "markdown",
      "id": "311b54f3",
      "metadata": {
        "id": "311b54f3"
      },
      "source": [
        "Опишите что вы видите на графике. Ваша задача - максимально описать график"
      ]
    },
    {
      "cell_type": "markdown",
      "source": [
        "если выводить по всем датам, то график становится совсем нечитабельным, поэтому мы вывели график по первым 10 датам. Если обратить внимание на даты, то продажи сгруппированы именно по числам(в нашем графике по числам января). Можно увидеть что продажи непостоянны, т.к. 4ого числа продаж более 1800 но уже 5ого числа они резко снизились до 1300 и в этом радиусе пробыли еще два дня, после чего на 9ое число они снова выростают до пределов 1700. С 10 числа продажи снова падают до порядка 1400 и стабильно днржаться в этом диапозоне в следующие дни"
      ],
      "metadata": {
        "id": "Ipbc_sO2odeB"
      },
      "id": "Ipbc_sO2odeB"
    },
    {
      "cell_type": "markdown",
      "id": "85412b89",
      "metadata": {
        "id": "85412b89"
      },
      "source": [
        "Найдите строку, у которой максимальный выброс по количеству продаж (нужно найти выброс у `df`)"
      ]
    },
    {
      "cell_type": "code",
      "execution_count": 33,
      "id": "2baebf0c",
      "metadata": {
        "id": "2baebf0c",
        "colab": {
          "base_uri": "https://localhost:8080/"
        },
        "outputId": "667ea204-6f38-47c5-c14e-58a0be28dee9"
      },
      "outputs": [
        {
          "output_type": "stream",
          "name": "stdout",
          "text": [
            "Дата            2018-06-28 00:00:00\n",
            "Склад                             1\n",
            "Контрагент              address_208\n",
            "Номенклатура              product_0\n",
            "Количество                      200\n",
            "Name: 218822, dtype: object\n"
          ]
        }
      ],
      "source": [
        "Q1 = df['Количество'].quantile(0.25)\n",
        "Q3 = df['Количество'].quantile(0.75)\n",
        "IQR = Q3 - Q1\n",
        "\n",
        "lower_bound = Q1 - 1.5 * IQR\n",
        "upper_bound = Q3 + 1.5 * IQR\n",
        "\n",
        "outliers = df[df['Количество'] > upper_bound]\n",
        "\n",
        "max_outlier = outliers.loc[outliers['Количество'].idxmax()]\n",
        "\n",
        "print(max_outlier)\n"
      ]
    },
    {
      "cell_type": "markdown",
      "id": "30aa9654",
      "metadata": {
        "id": "30aa9654"
      },
      "source": [
        "Найдите топовый товар по продажам по средам за июнь, июль, август у 3 склада"
      ]
    },
    {
      "cell_type": "code",
      "execution_count": 34,
      "id": "c3d75d16",
      "metadata": {
        "id": "c3d75d16",
        "colab": {
          "base_uri": "https://localhost:8080/"
        },
        "outputId": "4478dde6-53ee-408c-ccdb-37220531713c"
      },
      "outputs": [
        {
          "output_type": "stream",
          "name": "stdout",
          "text": [
            "        Дата  Склад Контрагент Номенклатура  Количество  Месяц  День недели\n",
            "0 2018-01-04      1  address_0    product_0           4      1            3\n",
            "1 2018-01-04      1  address_0    product_1           4      1            3\n",
            "2 2018-01-04      1  address_0    product_2           5      1            3\n",
            "3 2018-01-04      1  address_0    product_3          10      1            3\n",
            "4 2018-01-04      1  address_0    product_4           2      1            3\n"
          ]
        }
      ],
      "source": [
        "df['Месяц'] = df['Дата'].dt.month\n",
        "df['День недели'] = df['Дата'].dt.dayofweek  # 2 соответствует среде\n",
        "print(df.head())"
      ]
    },
    {
      "cell_type": "code",
      "source": [
        "grouped_sales = df[df['Склад'] == 3].groupby('Месяц')['Количество'].sum()\n",
        "print(grouped_sales)"
      ],
      "metadata": {
        "id": "iE7LHJIaunQl",
        "colab": {
          "base_uri": "https://localhost:8080/"
        },
        "outputId": "79def6ac-87d7-4ffd-9fd6-97710ec312a8"
      },
      "id": "iE7LHJIaunQl",
      "execution_count": 35,
      "outputs": [
        {
          "output_type": "stream",
          "name": "stdout",
          "text": [
            "Месяц\n",
            "1    17767\n",
            "2    19021\n",
            "3    20462\n",
            "4    20194\n",
            "5    24594\n",
            "6    22399\n",
            "7    23698\n",
            "8    26481\n",
            "Name: Количество, dtype: int64\n"
          ]
        }
      ]
    },
    {
      "cell_type": "code",
      "source": [
        "# Выводим уникальные месяцы\n",
        "print(df['Месяц'].unique())\n"
      ],
      "metadata": {
        "id": "8FR7XxkDvVB4",
        "colab": {
          "base_uri": "https://localhost:8080/"
        },
        "outputId": "135a9ce5-cd3f-4ceb-93a2-896994069413"
      },
      "id": "8FR7XxkDvVB4",
      "execution_count": 36,
      "outputs": [
        {
          "output_type": "stream",
          "name": "stdout",
          "text": [
            "[1 2 3 4 5 6 7 8]\n"
          ]
        }
      ]
    },
    {
      "cell_type": "code",
      "source": [
        "filtered_df = df[(df['Склад'] == 3) &\n",
        "                 (df['Месяц'].isin([6, 7, 8])) &\n",
        "                 (df['День недели'] == 2)]\n",
        "\n",
        "# Если после фильтрации нет данных, выводим сообщение\n",
        "if filtered_df.empty:\n",
        "    print(\"Нет данных для указанного фильтра.\")\n",
        "else:\n",
        "    # Группируем по 'Номенклатура' и суммируем 'Количество'\n",
        "    top_product = filtered_df.groupby('Номенклатура')['Количество'].sum().idxmax()\n",
        "\n",
        "    # Выводим результат\n",
        "    print(\"Топовый товар по продажам по средам за июнь, июль, август на складе 3:\", top_product)"
      ],
      "metadata": {
        "id": "nnwfuyKLvi0T",
        "colab": {
          "base_uri": "https://localhost:8080/"
        },
        "outputId": "51df46c6-b6cd-46cb-f6e2-10369c6cef23"
      },
      "id": "nnwfuyKLvi0T",
      "execution_count": 37,
      "outputs": [
        {
          "output_type": "stream",
          "name": "stdout",
          "text": [
            "Топовый товар по продажам по средам за июнь, июль, август на складе 3: product_1\n"
          ]
        }
      ]
    },
    {
      "cell_type": "markdown",
      "id": "66211d92",
      "metadata": {
        "id": "66211d92"
      },
      "source": [
        "Скачайте данные по погоде с https://rp5.ru/Архив_погоды_в_Астане (скачайте исходные данные, и далее преобразуйте так, чтобы мы имели Дату и Среднюю температуру за день), объедините таблицу температуры с `grouped_df`, и нарисуйте график `y=['Количество продаж', 'T']`, где Т это температура. А также отдельно график температуры."
      ]
    },
    {
      "cell_type": "code",
      "execution_count": 39,
      "id": "5f707733",
      "metadata": {
        "id": "5f707733",
        "colab": {
          "base_uri": "https://localhost:8080/"
        },
        "outputId": "386c7601-10d6-48eb-c46d-de17043c0cf8"
      },
      "outputs": [
        {
          "output_type": "stream",
          "name": "stdout",
          "text": [
            "[2018]\n"
          ]
        }
      ],
      "source": [
        "df['Год'] = df['Дата'].dt.year\n",
        "\n",
        "print(df['Год'].unique())"
      ]
    },
    {
      "cell_type": "code",
      "source": [
        "print(df.tail(5))\n"
      ],
      "metadata": {
        "id": "r6gSCTAlwVi6",
        "colab": {
          "base_uri": "https://localhost:8080/"
        },
        "outputId": "d1cd6039-0ea9-4697-fa1d-b4a8938ed86f"
      },
      "id": "r6gSCTAlwVi6",
      "execution_count": 40,
      "outputs": [
        {
          "output_type": "stream",
          "name": "stdout",
          "text": [
            "             Дата  Склад   Контрагент Номенклатура  Количество  Месяц  \\\n",
            "301350 2018-08-31      5  address_173   product_15           0      8   \n",
            "301351 2018-08-31      5  address_173   product_17           1      8   \n",
            "301352 2018-08-31      5  address_173   product_18           1      8   \n",
            "301353 2018-08-31      5  address_173   product_19           0      8   \n",
            "301354 2018-08-31      5  address_173   product_20           2      8   \n",
            "\n",
            "        День недели   Год  \n",
            "301350            4  2018  \n",
            "301351            4  2018  \n",
            "301352            4  2018  \n",
            "301353            4  2018  \n",
            "301354            4  2018  \n"
          ]
        }
      ]
    },
    {
      "cell_type": "code",
      "source": [
        "weather_df = pd.read_excel('weather.xls', skiprows=6)\n",
        "weather_df.tail()\n"
      ],
      "metadata": {
        "colab": {
          "base_uri": "https://localhost:8080/",
          "height": 568
        },
        "id": "4EF5aEEmxbwB",
        "outputId": "cbc4a215-b947-49ff-fcd0-84d648f52ed5"
      },
      "id": "4EF5aEEmxbwB",
      "execution_count": 50,
      "outputs": [
        {
          "output_type": "execute_result",
          "data": {
            "text/plain": [
              "     Местное время в Астане     T     Po      P   Pa     U  \\\n",
              "1945       01.01.2018 14:00  -6.7  747.5  781.6 -0.5  48.0   \n",
              "1946       01.01.2018 11:00  -8.5  748.0  782.4 -0.3  55.0   \n",
              "1947       01.01.2018 08:00 -11.1  748.3  783.0 -0.2  62.0   \n",
              "1948       01.01.2018 05:00 -10.8  748.5  783.1  0.1  62.0   \n",
              "1949       01.01.2018 02:00 -10.4  748.4  783.0 -0.3  78.0   \n",
              "\n",
              "                                   DD  Ff  ff10  ff3  ...   Cm   Ch    VV  \\\n",
              "1945  Ветер, дующий с юго-юго-востока   1   NaN  NaN  ...  NaN  NaN  10.0   \n",
              "1946      Ветер, дующий с юго-востока   1   NaN  NaN  ...  NaN  NaN  10.0   \n",
              "1947          Ветер, дующий с востока   1   NaN  NaN  ...  NaN  NaN  10.0   \n",
              "1948          Ветер, дующий с востока   1   NaN  NaN  ...  NaN  NaN   NaN   \n",
              "1949              Ветер, дующий с юга   1   NaN  NaN  ...  NaN  NaN   NaN   \n",
              "\n",
              "        Td  RRR  tR    E  Tg  \\\n",
              "1945 -15.9  NaN NaN  NaN NaN   \n",
              "1946 -16.1  NaN NaN  NaN NaN   \n",
              "1947 -17.1  NaN NaN  NaN NaN   \n",
              "1948 -16.7  NaN NaN  NaN NaN   \n",
              "1949 -13.6  NaN NaN  NaN NaN   \n",
              "\n",
              "                                                     E'  sss  \n",
              "1945                                                NaN  NaN  \n",
              "1946                                                NaN  NaN  \n",
              "1947  Ровный слой сухого рассыпчатого снега покрывае...   18  \n",
              "1948                                                NaN  NaN  \n",
              "1949                                                NaN  NaN  \n",
              "\n",
              "[5 rows x 29 columns]"
            ],
            "text/html": [
              "\n",
              "  <div id=\"df-6a87a01e-e9b3-4555-884b-0fafde974570\" class=\"colab-df-container\">\n",
              "    <div>\n",
              "<style scoped>\n",
              "    .dataframe tbody tr th:only-of-type {\n",
              "        vertical-align: middle;\n",
              "    }\n",
              "\n",
              "    .dataframe tbody tr th {\n",
              "        vertical-align: top;\n",
              "    }\n",
              "\n",
              "    .dataframe thead th {\n",
              "        text-align: right;\n",
              "    }\n",
              "</style>\n",
              "<table border=\"1\" class=\"dataframe\">\n",
              "  <thead>\n",
              "    <tr style=\"text-align: right;\">\n",
              "      <th></th>\n",
              "      <th>Местное время в Астане</th>\n",
              "      <th>T</th>\n",
              "      <th>Po</th>\n",
              "      <th>P</th>\n",
              "      <th>Pa</th>\n",
              "      <th>U</th>\n",
              "      <th>DD</th>\n",
              "      <th>Ff</th>\n",
              "      <th>ff10</th>\n",
              "      <th>ff3</th>\n",
              "      <th>...</th>\n",
              "      <th>Cm</th>\n",
              "      <th>Ch</th>\n",
              "      <th>VV</th>\n",
              "      <th>Td</th>\n",
              "      <th>RRR</th>\n",
              "      <th>tR</th>\n",
              "      <th>E</th>\n",
              "      <th>Tg</th>\n",
              "      <th>E'</th>\n",
              "      <th>sss</th>\n",
              "    </tr>\n",
              "  </thead>\n",
              "  <tbody>\n",
              "    <tr>\n",
              "      <th>1945</th>\n",
              "      <td>01.01.2018 14:00</td>\n",
              "      <td>-6.7</td>\n",
              "      <td>747.5</td>\n",
              "      <td>781.6</td>\n",
              "      <td>-0.5</td>\n",
              "      <td>48.0</td>\n",
              "      <td>Ветер, дующий с юго-юго-востока</td>\n",
              "      <td>1</td>\n",
              "      <td>NaN</td>\n",
              "      <td>NaN</td>\n",
              "      <td>...</td>\n",
              "      <td>NaN</td>\n",
              "      <td>NaN</td>\n",
              "      <td>10.0</td>\n",
              "      <td>-15.9</td>\n",
              "      <td>NaN</td>\n",
              "      <td>NaN</td>\n",
              "      <td>NaN</td>\n",
              "      <td>NaN</td>\n",
              "      <td>NaN</td>\n",
              "      <td>NaN</td>\n",
              "    </tr>\n",
              "    <tr>\n",
              "      <th>1946</th>\n",
              "      <td>01.01.2018 11:00</td>\n",
              "      <td>-8.5</td>\n",
              "      <td>748.0</td>\n",
              "      <td>782.4</td>\n",
              "      <td>-0.3</td>\n",
              "      <td>55.0</td>\n",
              "      <td>Ветер, дующий с юго-востока</td>\n",
              "      <td>1</td>\n",
              "      <td>NaN</td>\n",
              "      <td>NaN</td>\n",
              "      <td>...</td>\n",
              "      <td>NaN</td>\n",
              "      <td>NaN</td>\n",
              "      <td>10.0</td>\n",
              "      <td>-16.1</td>\n",
              "      <td>NaN</td>\n",
              "      <td>NaN</td>\n",
              "      <td>NaN</td>\n",
              "      <td>NaN</td>\n",
              "      <td>NaN</td>\n",
              "      <td>NaN</td>\n",
              "    </tr>\n",
              "    <tr>\n",
              "      <th>1947</th>\n",
              "      <td>01.01.2018 08:00</td>\n",
              "      <td>-11.1</td>\n",
              "      <td>748.3</td>\n",
              "      <td>783.0</td>\n",
              "      <td>-0.2</td>\n",
              "      <td>62.0</td>\n",
              "      <td>Ветер, дующий с востока</td>\n",
              "      <td>1</td>\n",
              "      <td>NaN</td>\n",
              "      <td>NaN</td>\n",
              "      <td>...</td>\n",
              "      <td>NaN</td>\n",
              "      <td>NaN</td>\n",
              "      <td>10.0</td>\n",
              "      <td>-17.1</td>\n",
              "      <td>NaN</td>\n",
              "      <td>NaN</td>\n",
              "      <td>NaN</td>\n",
              "      <td>NaN</td>\n",
              "      <td>Ровный слой сухого рассыпчатого снега покрывае...</td>\n",
              "      <td>18</td>\n",
              "    </tr>\n",
              "    <tr>\n",
              "      <th>1948</th>\n",
              "      <td>01.01.2018 05:00</td>\n",
              "      <td>-10.8</td>\n",
              "      <td>748.5</td>\n",
              "      <td>783.1</td>\n",
              "      <td>0.1</td>\n",
              "      <td>62.0</td>\n",
              "      <td>Ветер, дующий с востока</td>\n",
              "      <td>1</td>\n",
              "      <td>NaN</td>\n",
              "      <td>NaN</td>\n",
              "      <td>...</td>\n",
              "      <td>NaN</td>\n",
              "      <td>NaN</td>\n",
              "      <td>NaN</td>\n",
              "      <td>-16.7</td>\n",
              "      <td>NaN</td>\n",
              "      <td>NaN</td>\n",
              "      <td>NaN</td>\n",
              "      <td>NaN</td>\n",
              "      <td>NaN</td>\n",
              "      <td>NaN</td>\n",
              "    </tr>\n",
              "    <tr>\n",
              "      <th>1949</th>\n",
              "      <td>01.01.2018 02:00</td>\n",
              "      <td>-10.4</td>\n",
              "      <td>748.4</td>\n",
              "      <td>783.0</td>\n",
              "      <td>-0.3</td>\n",
              "      <td>78.0</td>\n",
              "      <td>Ветер, дующий с юга</td>\n",
              "      <td>1</td>\n",
              "      <td>NaN</td>\n",
              "      <td>NaN</td>\n",
              "      <td>...</td>\n",
              "      <td>NaN</td>\n",
              "      <td>NaN</td>\n",
              "      <td>NaN</td>\n",
              "      <td>-13.6</td>\n",
              "      <td>NaN</td>\n",
              "      <td>NaN</td>\n",
              "      <td>NaN</td>\n",
              "      <td>NaN</td>\n",
              "      <td>NaN</td>\n",
              "      <td>NaN</td>\n",
              "    </tr>\n",
              "  </tbody>\n",
              "</table>\n",
              "<p>5 rows × 29 columns</p>\n",
              "</div>\n",
              "    <div class=\"colab-df-buttons\">\n",
              "\n",
              "  <div class=\"colab-df-container\">\n",
              "    <button class=\"colab-df-convert\" onclick=\"convertToInteractive('df-6a87a01e-e9b3-4555-884b-0fafde974570')\"\n",
              "            title=\"Convert this dataframe to an interactive table.\"\n",
              "            style=\"display:none;\">\n",
              "\n",
              "  <svg xmlns=\"http://www.w3.org/2000/svg\" height=\"24px\" viewBox=\"0 -960 960 960\">\n",
              "    <path d=\"M120-120v-720h720v720H120Zm60-500h600v-160H180v160Zm220 220h160v-160H400v160Zm0 220h160v-160H400v160ZM180-400h160v-160H180v160Zm440 0h160v-160H620v160ZM180-180h160v-160H180v160Zm440 0h160v-160H620v160Z\"/>\n",
              "  </svg>\n",
              "    </button>\n",
              "\n",
              "  <style>\n",
              "    .colab-df-container {\n",
              "      display:flex;\n",
              "      gap: 12px;\n",
              "    }\n",
              "\n",
              "    .colab-df-convert {\n",
              "      background-color: #E8F0FE;\n",
              "      border: none;\n",
              "      border-radius: 50%;\n",
              "      cursor: pointer;\n",
              "      display: none;\n",
              "      fill: #1967D2;\n",
              "      height: 32px;\n",
              "      padding: 0 0 0 0;\n",
              "      width: 32px;\n",
              "    }\n",
              "\n",
              "    .colab-df-convert:hover {\n",
              "      background-color: #E2EBFA;\n",
              "      box-shadow: 0px 1px 2px rgba(60, 64, 67, 0.3), 0px 1px 3px 1px rgba(60, 64, 67, 0.15);\n",
              "      fill: #174EA6;\n",
              "    }\n",
              "\n",
              "    .colab-df-buttons div {\n",
              "      margin-bottom: 4px;\n",
              "    }\n",
              "\n",
              "    [theme=dark] .colab-df-convert {\n",
              "      background-color: #3B4455;\n",
              "      fill: #D2E3FC;\n",
              "    }\n",
              "\n",
              "    [theme=dark] .colab-df-convert:hover {\n",
              "      background-color: #434B5C;\n",
              "      box-shadow: 0px 1px 3px 1px rgba(0, 0, 0, 0.15);\n",
              "      filter: drop-shadow(0px 1px 2px rgba(0, 0, 0, 0.3));\n",
              "      fill: #FFFFFF;\n",
              "    }\n",
              "  </style>\n",
              "\n",
              "    <script>\n",
              "      const buttonEl =\n",
              "        document.querySelector('#df-6a87a01e-e9b3-4555-884b-0fafde974570 button.colab-df-convert');\n",
              "      buttonEl.style.display =\n",
              "        google.colab.kernel.accessAllowed ? 'block' : 'none';\n",
              "\n",
              "      async function convertToInteractive(key) {\n",
              "        const element = document.querySelector('#df-6a87a01e-e9b3-4555-884b-0fafde974570');\n",
              "        const dataTable =\n",
              "          await google.colab.kernel.invokeFunction('convertToInteractive',\n",
              "                                                    [key], {});\n",
              "        if (!dataTable) return;\n",
              "\n",
              "        const docLinkHtml = 'Like what you see? Visit the ' +\n",
              "          '<a target=\"_blank\" href=https://colab.research.google.com/notebooks/data_table.ipynb>data table notebook</a>'\n",
              "          + ' to learn more about interactive tables.';\n",
              "        element.innerHTML = '';\n",
              "        dataTable['output_type'] = 'display_data';\n",
              "        await google.colab.output.renderOutput(dataTable, element);\n",
              "        const docLink = document.createElement('div');\n",
              "        docLink.innerHTML = docLinkHtml;\n",
              "        element.appendChild(docLink);\n",
              "      }\n",
              "    </script>\n",
              "  </div>\n",
              "\n",
              "\n",
              "<div id=\"df-4f5ca7bb-f0e2-48e4-9b56-03227a931020\">\n",
              "  <button class=\"colab-df-quickchart\" onclick=\"quickchart('df-4f5ca7bb-f0e2-48e4-9b56-03227a931020')\"\n",
              "            title=\"Suggest charts\"\n",
              "            style=\"display:none;\">\n",
              "\n",
              "<svg xmlns=\"http://www.w3.org/2000/svg\" height=\"24px\"viewBox=\"0 0 24 24\"\n",
              "     width=\"24px\">\n",
              "    <g>\n",
              "        <path d=\"M19 3H5c-1.1 0-2 .9-2 2v14c0 1.1.9 2 2 2h14c1.1 0 2-.9 2-2V5c0-1.1-.9-2-2-2zM9 17H7v-7h2v7zm4 0h-2V7h2v10zm4 0h-2v-4h2v4z\"/>\n",
              "    </g>\n",
              "</svg>\n",
              "  </button>\n",
              "\n",
              "<style>\n",
              "  .colab-df-quickchart {\n",
              "      --bg-color: #E8F0FE;\n",
              "      --fill-color: #1967D2;\n",
              "      --hover-bg-color: #E2EBFA;\n",
              "      --hover-fill-color: #174EA6;\n",
              "      --disabled-fill-color: #AAA;\n",
              "      --disabled-bg-color: #DDD;\n",
              "  }\n",
              "\n",
              "  [theme=dark] .colab-df-quickchart {\n",
              "      --bg-color: #3B4455;\n",
              "      --fill-color: #D2E3FC;\n",
              "      --hover-bg-color: #434B5C;\n",
              "      --hover-fill-color: #FFFFFF;\n",
              "      --disabled-bg-color: #3B4455;\n",
              "      --disabled-fill-color: #666;\n",
              "  }\n",
              "\n",
              "  .colab-df-quickchart {\n",
              "    background-color: var(--bg-color);\n",
              "    border: none;\n",
              "    border-radius: 50%;\n",
              "    cursor: pointer;\n",
              "    display: none;\n",
              "    fill: var(--fill-color);\n",
              "    height: 32px;\n",
              "    padding: 0;\n",
              "    width: 32px;\n",
              "  }\n",
              "\n",
              "  .colab-df-quickchart:hover {\n",
              "    background-color: var(--hover-bg-color);\n",
              "    box-shadow: 0 1px 2px rgba(60, 64, 67, 0.3), 0 1px 3px 1px rgba(60, 64, 67, 0.15);\n",
              "    fill: var(--button-hover-fill-color);\n",
              "  }\n",
              "\n",
              "  .colab-df-quickchart-complete:disabled,\n",
              "  .colab-df-quickchart-complete:disabled:hover {\n",
              "    background-color: var(--disabled-bg-color);\n",
              "    fill: var(--disabled-fill-color);\n",
              "    box-shadow: none;\n",
              "  }\n",
              "\n",
              "  .colab-df-spinner {\n",
              "    border: 2px solid var(--fill-color);\n",
              "    border-color: transparent;\n",
              "    border-bottom-color: var(--fill-color);\n",
              "    animation:\n",
              "      spin 1s steps(1) infinite;\n",
              "  }\n",
              "\n",
              "  @keyframes spin {\n",
              "    0% {\n",
              "      border-color: transparent;\n",
              "      border-bottom-color: var(--fill-color);\n",
              "      border-left-color: var(--fill-color);\n",
              "    }\n",
              "    20% {\n",
              "      border-color: transparent;\n",
              "      border-left-color: var(--fill-color);\n",
              "      border-top-color: var(--fill-color);\n",
              "    }\n",
              "    30% {\n",
              "      border-color: transparent;\n",
              "      border-left-color: var(--fill-color);\n",
              "      border-top-color: var(--fill-color);\n",
              "      border-right-color: var(--fill-color);\n",
              "    }\n",
              "    40% {\n",
              "      border-color: transparent;\n",
              "      border-right-color: var(--fill-color);\n",
              "      border-top-color: var(--fill-color);\n",
              "    }\n",
              "    60% {\n",
              "      border-color: transparent;\n",
              "      border-right-color: var(--fill-color);\n",
              "    }\n",
              "    80% {\n",
              "      border-color: transparent;\n",
              "      border-right-color: var(--fill-color);\n",
              "      border-bottom-color: var(--fill-color);\n",
              "    }\n",
              "    90% {\n",
              "      border-color: transparent;\n",
              "      border-bottom-color: var(--fill-color);\n",
              "    }\n",
              "  }\n",
              "</style>\n",
              "\n",
              "  <script>\n",
              "    async function quickchart(key) {\n",
              "      const quickchartButtonEl =\n",
              "        document.querySelector('#' + key + ' button');\n",
              "      quickchartButtonEl.disabled = true;  // To prevent multiple clicks.\n",
              "      quickchartButtonEl.classList.add('colab-df-spinner');\n",
              "      try {\n",
              "        const charts = await google.colab.kernel.invokeFunction(\n",
              "            'suggestCharts', [key], {});\n",
              "      } catch (error) {\n",
              "        console.error('Error during call to suggestCharts:', error);\n",
              "      }\n",
              "      quickchartButtonEl.classList.remove('colab-df-spinner');\n",
              "      quickchartButtonEl.classList.add('colab-df-quickchart-complete');\n",
              "    }\n",
              "    (() => {\n",
              "      let quickchartButtonEl =\n",
              "        document.querySelector('#df-4f5ca7bb-f0e2-48e4-9b56-03227a931020 button');\n",
              "      quickchartButtonEl.style.display =\n",
              "        google.colab.kernel.accessAllowed ? 'block' : 'none';\n",
              "    })();\n",
              "  </script>\n",
              "</div>\n",
              "\n",
              "    </div>\n",
              "  </div>\n"
            ],
            "application/vnd.google.colaboratory.intrinsic+json": {
              "type": "dataframe"
            }
          },
          "metadata": {},
          "execution_count": 50
        }
      ]
    },
    {
      "cell_type": "code",
      "source": [
        "weather_df = weather_df.iloc[:, :2] # only 2 cols\n",
        "\n",
        "weather_df = weather_df.rename(columns={'Местное время в Астане': 'Дата'})\n",
        "\n",
        "weather_df['Дата'] = pd.to_datetime(weather_df['Дата'], format='%d.%m.%Y %H:%M')\n",
        "\n",
        "weather_df['Дата'] = pd.to_datetime(weather_df['Дата']).dt.date\n",
        "\n",
        "weather_df['Дата'] = pd.to_datetime(weather_df['Дата'], format='%d-%m-%Y')\n",
        "\n",
        "weather_df = weather_df.groupby('Дата', as_index=False).mean()\n",
        "\n",
        "weather_df.dtypes"
      ],
      "metadata": {
        "colab": {
          "base_uri": "https://localhost:8080/",
          "height": 147
        },
        "id": "N_f3JeOUKgSb",
        "outputId": "ff2b44e2-c9f6-40b0-d4a6-2715e783cde4"
      },
      "id": "N_f3JeOUKgSb",
      "execution_count": 54,
      "outputs": [
        {
          "output_type": "execute_result",
          "data": {
            "text/plain": [
              "Дата    datetime64[ns]\n",
              "T              float64\n",
              "dtype: object"
            ],
            "text/html": [
              "<div>\n",
              "<style scoped>\n",
              "    .dataframe tbody tr th:only-of-type {\n",
              "        vertical-align: middle;\n",
              "    }\n",
              "\n",
              "    .dataframe tbody tr th {\n",
              "        vertical-align: top;\n",
              "    }\n",
              "\n",
              "    .dataframe thead th {\n",
              "        text-align: right;\n",
              "    }\n",
              "</style>\n",
              "<table border=\"1\" class=\"dataframe\">\n",
              "  <thead>\n",
              "    <tr style=\"text-align: right;\">\n",
              "      <th></th>\n",
              "      <th>0</th>\n",
              "    </tr>\n",
              "  </thead>\n",
              "  <tbody>\n",
              "    <tr>\n",
              "      <th>Дата</th>\n",
              "      <td>datetime64[ns]</td>\n",
              "    </tr>\n",
              "    <tr>\n",
              "      <th>T</th>\n",
              "      <td>float64</td>\n",
              "    </tr>\n",
              "  </tbody>\n",
              "</table>\n",
              "</div><br><label><b>dtype:</b> object</label>"
            ]
          },
          "metadata": {},
          "execution_count": 54
        }
      ]
    },
    {
      "cell_type": "code",
      "source": [
        "weather_df"
      ],
      "metadata": {
        "colab": {
          "base_uri": "https://localhost:8080/",
          "height": 423
        },
        "id": "2NJ-t84agGqS",
        "outputId": "377e8860-dbaf-49b5-e971-8aa7cae19510"
      },
      "id": "2NJ-t84agGqS",
      "execution_count": 55,
      "outputs": [
        {
          "output_type": "execute_result",
          "data": {
            "text/plain": [
              "          Дата        T\n",
              "0   2018-01-01  -9.4625\n",
              "1   2018-01-02  -9.5125\n",
              "2   2018-01-03 -11.4625\n",
              "3   2018-01-04 -14.0750\n",
              "4   2018-01-05 -16.8625\n",
              "..         ...      ...\n",
              "239 2018-08-28  14.1125\n",
              "240 2018-08-29  13.8250\n",
              "241 2018-08-30  14.1750\n",
              "242 2018-08-31  11.0250\n",
              "243 2018-09-01   6.8000\n",
              "\n",
              "[244 rows x 2 columns]"
            ],
            "text/html": [
              "\n",
              "  <div id=\"df-7cd48ecd-2f90-4ffc-8793-5a6b846ed077\" class=\"colab-df-container\">\n",
              "    <div>\n",
              "<style scoped>\n",
              "    .dataframe tbody tr th:only-of-type {\n",
              "        vertical-align: middle;\n",
              "    }\n",
              "\n",
              "    .dataframe tbody tr th {\n",
              "        vertical-align: top;\n",
              "    }\n",
              "\n",
              "    .dataframe thead th {\n",
              "        text-align: right;\n",
              "    }\n",
              "</style>\n",
              "<table border=\"1\" class=\"dataframe\">\n",
              "  <thead>\n",
              "    <tr style=\"text-align: right;\">\n",
              "      <th></th>\n",
              "      <th>Дата</th>\n",
              "      <th>T</th>\n",
              "    </tr>\n",
              "  </thead>\n",
              "  <tbody>\n",
              "    <tr>\n",
              "      <th>0</th>\n",
              "      <td>2018-01-01</td>\n",
              "      <td>-9.4625</td>\n",
              "    </tr>\n",
              "    <tr>\n",
              "      <th>1</th>\n",
              "      <td>2018-01-02</td>\n",
              "      <td>-9.5125</td>\n",
              "    </tr>\n",
              "    <tr>\n",
              "      <th>2</th>\n",
              "      <td>2018-01-03</td>\n",
              "      <td>-11.4625</td>\n",
              "    </tr>\n",
              "    <tr>\n",
              "      <th>3</th>\n",
              "      <td>2018-01-04</td>\n",
              "      <td>-14.0750</td>\n",
              "    </tr>\n",
              "    <tr>\n",
              "      <th>4</th>\n",
              "      <td>2018-01-05</td>\n",
              "      <td>-16.8625</td>\n",
              "    </tr>\n",
              "    <tr>\n",
              "      <th>...</th>\n",
              "      <td>...</td>\n",
              "      <td>...</td>\n",
              "    </tr>\n",
              "    <tr>\n",
              "      <th>239</th>\n",
              "      <td>2018-08-28</td>\n",
              "      <td>14.1125</td>\n",
              "    </tr>\n",
              "    <tr>\n",
              "      <th>240</th>\n",
              "      <td>2018-08-29</td>\n",
              "      <td>13.8250</td>\n",
              "    </tr>\n",
              "    <tr>\n",
              "      <th>241</th>\n",
              "      <td>2018-08-30</td>\n",
              "      <td>14.1750</td>\n",
              "    </tr>\n",
              "    <tr>\n",
              "      <th>242</th>\n",
              "      <td>2018-08-31</td>\n",
              "      <td>11.0250</td>\n",
              "    </tr>\n",
              "    <tr>\n",
              "      <th>243</th>\n",
              "      <td>2018-09-01</td>\n",
              "      <td>6.8000</td>\n",
              "    </tr>\n",
              "  </tbody>\n",
              "</table>\n",
              "<p>244 rows × 2 columns</p>\n",
              "</div>\n",
              "    <div class=\"colab-df-buttons\">\n",
              "\n",
              "  <div class=\"colab-df-container\">\n",
              "    <button class=\"colab-df-convert\" onclick=\"convertToInteractive('df-7cd48ecd-2f90-4ffc-8793-5a6b846ed077')\"\n",
              "            title=\"Convert this dataframe to an interactive table.\"\n",
              "            style=\"display:none;\">\n",
              "\n",
              "  <svg xmlns=\"http://www.w3.org/2000/svg\" height=\"24px\" viewBox=\"0 -960 960 960\">\n",
              "    <path d=\"M120-120v-720h720v720H120Zm60-500h600v-160H180v160Zm220 220h160v-160H400v160Zm0 220h160v-160H400v160ZM180-400h160v-160H180v160Zm440 0h160v-160H620v160ZM180-180h160v-160H180v160Zm440 0h160v-160H620v160Z\"/>\n",
              "  </svg>\n",
              "    </button>\n",
              "\n",
              "  <style>\n",
              "    .colab-df-container {\n",
              "      display:flex;\n",
              "      gap: 12px;\n",
              "    }\n",
              "\n",
              "    .colab-df-convert {\n",
              "      background-color: #E8F0FE;\n",
              "      border: none;\n",
              "      border-radius: 50%;\n",
              "      cursor: pointer;\n",
              "      display: none;\n",
              "      fill: #1967D2;\n",
              "      height: 32px;\n",
              "      padding: 0 0 0 0;\n",
              "      width: 32px;\n",
              "    }\n",
              "\n",
              "    .colab-df-convert:hover {\n",
              "      background-color: #E2EBFA;\n",
              "      box-shadow: 0px 1px 2px rgba(60, 64, 67, 0.3), 0px 1px 3px 1px rgba(60, 64, 67, 0.15);\n",
              "      fill: #174EA6;\n",
              "    }\n",
              "\n",
              "    .colab-df-buttons div {\n",
              "      margin-bottom: 4px;\n",
              "    }\n",
              "\n",
              "    [theme=dark] .colab-df-convert {\n",
              "      background-color: #3B4455;\n",
              "      fill: #D2E3FC;\n",
              "    }\n",
              "\n",
              "    [theme=dark] .colab-df-convert:hover {\n",
              "      background-color: #434B5C;\n",
              "      box-shadow: 0px 1px 3px 1px rgba(0, 0, 0, 0.15);\n",
              "      filter: drop-shadow(0px 1px 2px rgba(0, 0, 0, 0.3));\n",
              "      fill: #FFFFFF;\n",
              "    }\n",
              "  </style>\n",
              "\n",
              "    <script>\n",
              "      const buttonEl =\n",
              "        document.querySelector('#df-7cd48ecd-2f90-4ffc-8793-5a6b846ed077 button.colab-df-convert');\n",
              "      buttonEl.style.display =\n",
              "        google.colab.kernel.accessAllowed ? 'block' : 'none';\n",
              "\n",
              "      async function convertToInteractive(key) {\n",
              "        const element = document.querySelector('#df-7cd48ecd-2f90-4ffc-8793-5a6b846ed077');\n",
              "        const dataTable =\n",
              "          await google.colab.kernel.invokeFunction('convertToInteractive',\n",
              "                                                    [key], {});\n",
              "        if (!dataTable) return;\n",
              "\n",
              "        const docLinkHtml = 'Like what you see? Visit the ' +\n",
              "          '<a target=\"_blank\" href=https://colab.research.google.com/notebooks/data_table.ipynb>data table notebook</a>'\n",
              "          + ' to learn more about interactive tables.';\n",
              "        element.innerHTML = '';\n",
              "        dataTable['output_type'] = 'display_data';\n",
              "        await google.colab.output.renderOutput(dataTable, element);\n",
              "        const docLink = document.createElement('div');\n",
              "        docLink.innerHTML = docLinkHtml;\n",
              "        element.appendChild(docLink);\n",
              "      }\n",
              "    </script>\n",
              "  </div>\n",
              "\n",
              "\n",
              "<div id=\"df-f28cbcc5-4fe6-4993-84c3-41f934e53a06\">\n",
              "  <button class=\"colab-df-quickchart\" onclick=\"quickchart('df-f28cbcc5-4fe6-4993-84c3-41f934e53a06')\"\n",
              "            title=\"Suggest charts\"\n",
              "            style=\"display:none;\">\n",
              "\n",
              "<svg xmlns=\"http://www.w3.org/2000/svg\" height=\"24px\"viewBox=\"0 0 24 24\"\n",
              "     width=\"24px\">\n",
              "    <g>\n",
              "        <path d=\"M19 3H5c-1.1 0-2 .9-2 2v14c0 1.1.9 2 2 2h14c1.1 0 2-.9 2-2V5c0-1.1-.9-2-2-2zM9 17H7v-7h2v7zm4 0h-2V7h2v10zm4 0h-2v-4h2v4z\"/>\n",
              "    </g>\n",
              "</svg>\n",
              "  </button>\n",
              "\n",
              "<style>\n",
              "  .colab-df-quickchart {\n",
              "      --bg-color: #E8F0FE;\n",
              "      --fill-color: #1967D2;\n",
              "      --hover-bg-color: #E2EBFA;\n",
              "      --hover-fill-color: #174EA6;\n",
              "      --disabled-fill-color: #AAA;\n",
              "      --disabled-bg-color: #DDD;\n",
              "  }\n",
              "\n",
              "  [theme=dark] .colab-df-quickchart {\n",
              "      --bg-color: #3B4455;\n",
              "      --fill-color: #D2E3FC;\n",
              "      --hover-bg-color: #434B5C;\n",
              "      --hover-fill-color: #FFFFFF;\n",
              "      --disabled-bg-color: #3B4455;\n",
              "      --disabled-fill-color: #666;\n",
              "  }\n",
              "\n",
              "  .colab-df-quickchart {\n",
              "    background-color: var(--bg-color);\n",
              "    border: none;\n",
              "    border-radius: 50%;\n",
              "    cursor: pointer;\n",
              "    display: none;\n",
              "    fill: var(--fill-color);\n",
              "    height: 32px;\n",
              "    padding: 0;\n",
              "    width: 32px;\n",
              "  }\n",
              "\n",
              "  .colab-df-quickchart:hover {\n",
              "    background-color: var(--hover-bg-color);\n",
              "    box-shadow: 0 1px 2px rgba(60, 64, 67, 0.3), 0 1px 3px 1px rgba(60, 64, 67, 0.15);\n",
              "    fill: var(--button-hover-fill-color);\n",
              "  }\n",
              "\n",
              "  .colab-df-quickchart-complete:disabled,\n",
              "  .colab-df-quickchart-complete:disabled:hover {\n",
              "    background-color: var(--disabled-bg-color);\n",
              "    fill: var(--disabled-fill-color);\n",
              "    box-shadow: none;\n",
              "  }\n",
              "\n",
              "  .colab-df-spinner {\n",
              "    border: 2px solid var(--fill-color);\n",
              "    border-color: transparent;\n",
              "    border-bottom-color: var(--fill-color);\n",
              "    animation:\n",
              "      spin 1s steps(1) infinite;\n",
              "  }\n",
              "\n",
              "  @keyframes spin {\n",
              "    0% {\n",
              "      border-color: transparent;\n",
              "      border-bottom-color: var(--fill-color);\n",
              "      border-left-color: var(--fill-color);\n",
              "    }\n",
              "    20% {\n",
              "      border-color: transparent;\n",
              "      border-left-color: var(--fill-color);\n",
              "      border-top-color: var(--fill-color);\n",
              "    }\n",
              "    30% {\n",
              "      border-color: transparent;\n",
              "      border-left-color: var(--fill-color);\n",
              "      border-top-color: var(--fill-color);\n",
              "      border-right-color: var(--fill-color);\n",
              "    }\n",
              "    40% {\n",
              "      border-color: transparent;\n",
              "      border-right-color: var(--fill-color);\n",
              "      border-top-color: var(--fill-color);\n",
              "    }\n",
              "    60% {\n",
              "      border-color: transparent;\n",
              "      border-right-color: var(--fill-color);\n",
              "    }\n",
              "    80% {\n",
              "      border-color: transparent;\n",
              "      border-right-color: var(--fill-color);\n",
              "      border-bottom-color: var(--fill-color);\n",
              "    }\n",
              "    90% {\n",
              "      border-color: transparent;\n",
              "      border-bottom-color: var(--fill-color);\n",
              "    }\n",
              "  }\n",
              "</style>\n",
              "\n",
              "  <script>\n",
              "    async function quickchart(key) {\n",
              "      const quickchartButtonEl =\n",
              "        document.querySelector('#' + key + ' button');\n",
              "      quickchartButtonEl.disabled = true;  // To prevent multiple clicks.\n",
              "      quickchartButtonEl.classList.add('colab-df-spinner');\n",
              "      try {\n",
              "        const charts = await google.colab.kernel.invokeFunction(\n",
              "            'suggestCharts', [key], {});\n",
              "      } catch (error) {\n",
              "        console.error('Error during call to suggestCharts:', error);\n",
              "      }\n",
              "      quickchartButtonEl.classList.remove('colab-df-spinner');\n",
              "      quickchartButtonEl.classList.add('colab-df-quickchart-complete');\n",
              "    }\n",
              "    (() => {\n",
              "      let quickchartButtonEl =\n",
              "        document.querySelector('#df-f28cbcc5-4fe6-4993-84c3-41f934e53a06 button');\n",
              "      quickchartButtonEl.style.display =\n",
              "        google.colab.kernel.accessAllowed ? 'block' : 'none';\n",
              "    })();\n",
              "  </script>\n",
              "</div>\n",
              "\n",
              "  <div id=\"id_f2573656-eb36-4bb9-9f88-39d03373dc6c\">\n",
              "    <style>\n",
              "      .colab-df-generate {\n",
              "        background-color: #E8F0FE;\n",
              "        border: none;\n",
              "        border-radius: 50%;\n",
              "        cursor: pointer;\n",
              "        display: none;\n",
              "        fill: #1967D2;\n",
              "        height: 32px;\n",
              "        padding: 0 0 0 0;\n",
              "        width: 32px;\n",
              "      }\n",
              "\n",
              "      .colab-df-generate:hover {\n",
              "        background-color: #E2EBFA;\n",
              "        box-shadow: 0px 1px 2px rgba(60, 64, 67, 0.3), 0px 1px 3px 1px rgba(60, 64, 67, 0.15);\n",
              "        fill: #174EA6;\n",
              "      }\n",
              "\n",
              "      [theme=dark] .colab-df-generate {\n",
              "        background-color: #3B4455;\n",
              "        fill: #D2E3FC;\n",
              "      }\n",
              "\n",
              "      [theme=dark] .colab-df-generate:hover {\n",
              "        background-color: #434B5C;\n",
              "        box-shadow: 0px 1px 3px 1px rgba(0, 0, 0, 0.15);\n",
              "        filter: drop-shadow(0px 1px 2px rgba(0, 0, 0, 0.3));\n",
              "        fill: #FFFFFF;\n",
              "      }\n",
              "    </style>\n",
              "    <button class=\"colab-df-generate\" onclick=\"generateWithVariable('weather_df')\"\n",
              "            title=\"Generate code using this dataframe.\"\n",
              "            style=\"display:none;\">\n",
              "\n",
              "  <svg xmlns=\"http://www.w3.org/2000/svg\" height=\"24px\"viewBox=\"0 0 24 24\"\n",
              "       width=\"24px\">\n",
              "    <path d=\"M7,19H8.4L18.45,9,17,7.55,7,17.6ZM5,21V16.75L18.45,3.32a2,2,0,0,1,2.83,0l1.4,1.43a1.91,1.91,0,0,1,.58,1.4,1.91,1.91,0,0,1-.58,1.4L9.25,21ZM18.45,9,17,7.55Zm-12,3A5.31,5.31,0,0,0,4.9,8.1,5.31,5.31,0,0,0,1,6.5,5.31,5.31,0,0,0,4.9,4.9,5.31,5.31,0,0,0,6.5,1,5.31,5.31,0,0,0,8.1,4.9,5.31,5.31,0,0,0,12,6.5,5.46,5.46,0,0,0,6.5,12Z\"/>\n",
              "  </svg>\n",
              "    </button>\n",
              "    <script>\n",
              "      (() => {\n",
              "      const buttonEl =\n",
              "        document.querySelector('#id_f2573656-eb36-4bb9-9f88-39d03373dc6c button.colab-df-generate');\n",
              "      buttonEl.style.display =\n",
              "        google.colab.kernel.accessAllowed ? 'block' : 'none';\n",
              "\n",
              "      buttonEl.onclick = () => {\n",
              "        google.colab.notebook.generateWithVariable('weather_df');\n",
              "      }\n",
              "      })();\n",
              "    </script>\n",
              "  </div>\n",
              "\n",
              "    </div>\n",
              "  </div>\n"
            ],
            "application/vnd.google.colaboratory.intrinsic+json": {
              "type": "dataframe",
              "variable_name": "weather_df",
              "summary": "{\n  \"name\": \"weather_df\",\n  \"rows\": 244,\n  \"fields\": [\n    {\n      \"column\": \"\\u0414\\u0430\\u0442\\u0430\",\n      \"properties\": {\n        \"dtype\": \"date\",\n        \"min\": \"2018-01-01 00:00:00\",\n        \"max\": \"2018-09-01 00:00:00\",\n        \"num_unique_values\": 244,\n        \"samples\": [\n          \"2018-01-25 00:00:00\",\n          \"2018-01-07 00:00:00\",\n          \"2018-06-03 00:00:00\"\n        ],\n        \"semantic_type\": \"\",\n        \"description\": \"\"\n      }\n    },\n    {\n      \"column\": \"T\",\n      \"properties\": {\n        \"dtype\": \"number\",\n        \"std\": 15.547557779100465,\n        \"min\": -34.6625,\n        \"max\": 27.1,\n        \"num_unique_values\": 237,\n        \"samples\": [\n          8.4625,\n          -21.375,\n          21.225\n        ],\n        \"semantic_type\": \"\",\n        \"description\": \"\"\n      }\n    }\n  ]\n}"
            }
          },
          "metadata": {},
          "execution_count": 55
        }
      ]
    },
    {
      "cell_type": "code",
      "source": [
        "weather_df = weather_df.merge(grouped_df, on='Дата')\n",
        "\n",
        "weather_df.plot(x='Дата', y=['Количество', 'T'])\n"
      ],
      "metadata": {
        "colab": {
          "base_uri": "https://localhost:8080/",
          "height": 451
        },
        "id": "_mI10kWmzEE6",
        "outputId": "50a1eba9-0fbb-4630-87ac-6dfab843d82f"
      },
      "id": "_mI10kWmzEE6",
      "execution_count": 56,
      "outputs": [
        {
          "output_type": "execute_result",
          "data": {
            "text/plain": [
              "<Axes: xlabel='Дата'>"
            ]
          },
          "metadata": {},
          "execution_count": 56
        },
        {
          "output_type": "display_data",
          "data": {
            "text/plain": [
              "<Figure size 640x480 with 1 Axes>"
            ],
            "image/png": "[encoded data removed]"
          },
          "metadata": {}
        }
      ]
    },
    {
      "cell_type": "code",
      "source": [
        "weather_df.plot(x='Дата', y='T')"
      ],
      "metadata": {
        "colab": {
          "base_uri": "https://localhost:8080/",
          "height": 456
        },
        "id": "KzwkpwlSLdx0",
        "outputId": "73b40404-880d-4e22-8d70-4b28a79ea1d9"
      },
      "id": "KzwkpwlSLdx0",
      "execution_count": 57,
      "outputs": [
        {
          "output_type": "execute_result",
          "data": {
            "text/plain": [
              "<Axes: xlabel='Дата'>"
            ]
          },
          "metadata": {},
          "execution_count": 57
        },
        {
          "output_type": "display_data",
          "data": {
            "text/plain": [
              "<Figure size 640x480 with 1 Axes>"
            ],
            "image/png": "[encoded data removed]"
          },
          "metadata": {}
        }
      ]
    }
  ],
  "metadata": {
    "kernelspec": {
      "display_name": "Python 3 (ipykernel)",
      "language": "python",
      "name": "python3"
    },
    "language_info": {
      "codemirror_mode": {
        "name": "ipython",
        "version": 3
      },
      "file_extension": ".py",
      "mimetype": "text/x-python",
      "name": "python",
      "nbconvert_exporter": "python",
      "pygments_lexer": "ipython3",
      "version": "3.11.5"
    },
    "colab": {
      "provenance": []
    }
  },
  "nbformat": 4,
  "nbformat_minor": 5
}